{
 "cells": [
  {
   "cell_type": "code",
   "execution_count": 1,
   "metadata": {},
   "outputs": [],
   "source": [
    "import pandas as pd\n",
    "import pickle\n",
    "import os\n",
    "import glob\n",
    "import numpy as np"
   ]
  },
  {
   "cell_type": "markdown",
   "metadata": {},
   "source": [
    "Get data directories."
   ]
  },
  {
   "cell_type": "code",
   "execution_count": 2,
   "metadata": {},
   "outputs": [],
   "source": [
    "data_dir_MLPraw = 'E:\\\\PhD\\\\Studies\\\\NEN002\\\\Data\\\\Output\\\\MLP_Raw' #MLP using raw data\n",
    "data_dir_MLPlmu = 'E:\\\\PhD\\\\Studies\\\\NEN002\\\\Data\\\\Output\\\\MLP_LMU' #MLP using ldn data"
   ]
  },
  {
   "cell_type": "markdown",
   "metadata": {},
   "source": [
    "Create Dataframe for each dataset"
   ]
  },
  {
   "cell_type": "markdown",
   "metadata": {},
   "source": [
    "Multi-Layer Perceptron Without LDN"
   ]
  },
  {
   "cell_type": "code",
   "execution_count": 3,
   "metadata": {},
   "outputs": [],
   "source": [
    "mlpraw_clip_run=[] # run-number (0-19) \n",
    "mlpraw_clip_prob=[] # 2-d array with probability of -1 classification and probability of +1 classification\n",
    "mlpraw_clip_decision=[] # 2-d array of activation of the final hidden layer\n",
    "trainlen=[]\n",
    "\n",
    "#Collect data from each run into lists\n",
    "for fname in os.listdir(data_dir_MLPraw):\n",
    "    dat = data_dir_MLPraw+'\\\\'+fname\n",
    "    if 'prob' in fname:\n",
    "        a = np.load(dat, allow_pickle=True) \n",
    "        mlpraw_clip_prob.append(a)\n",
    "        mlpraw_clip_run.append(fname.split('_')[0])\n",
    "    elif 'decision' in fname:\n",
    "        a = np.load(dat, allow_pickle=True) \n",
    "        mlpraw_clip_decision.append(a)\n",
    "    elif 'train' in fname:\n",
    "        a = np.load(dat, allow_pickle=True) \n",
    "        trainlen.append(len(a))\n",
    "    else:\n",
    "        continue\n",
    "        \n",
    "#Create dataframe from lists\n",
    "mlpraw_clip = pd.DataFrame(columns=['run', 'prediction_prob_high', 'prediction_prob_mid', \n",
    "                                   'prediction_prob_low', 'prediction_prob_random', 'decision_high',\n",
    "                                   'decision_mid', 'decision_low', 'decision_random'])\n",
    "for i in range(len(mlpraw_clip_run)):\n",
    "    mlpraw_clip.loc[i]=[mlpraw_clip_run[i], mlpraw_clip_prob[i][:18], mlpraw_clip_prob[i][18:70], \n",
    "                       mlpraw_clip_prob[i][70:88], mlpraw_clip_prob[i][88:], mlpraw_clip_decision[i][:18],\n",
    "                       mlpraw_clip_decision[i][18:70], mlpraw_clip_decision[i][70:88], mlpraw_clip_decision[i][88:]]\n",
    "    \n",
    "mlpraw_clip.to_pickle(\"../Data/Output/mlpraw_clip.pkl\")"
   ]
  },
  {
   "cell_type": "markdown",
   "metadata": {},
   "source": [
    "Multi-Layer Perceptron With LDN"
   ]
  },
  {
   "cell_type": "code",
   "execution_count": 4,
   "metadata": {},
   "outputs": [],
   "source": [
    "mlplmu_clip_run=[] # run-number (0-19) \n",
    "mlplmu_clip_prob=[] # 2-d array with probability of -1 classification and probability of +1 classification\n",
    "mlplmu_clip_decision=[] # 2-d array of activation of the final hidden layer\n",
    "\n",
    "#Collect data from each run into lists\n",
    "for fname in os.listdir(data_dir_MLPlmu):\n",
    "    dat = data_dir_MLPlmu+'\\\\'+fname\n",
    "    if 'prob' in fname:\n",
    "        a = np.load(dat, allow_pickle=True) \n",
    "        mlplmu_clip_prob.append(a)\n",
    "        mlplmu_clip_run.append(fname.split('_')[0])\n",
    "    elif 'decision' in fname:\n",
    "        a = np.load(dat, allow_pickle=True) \n",
    "        mlplmu_clip_decision.append(a)\n",
    "    elif 'train' in fname:\n",
    "        a = np.load(dat, allow_pickle=True) \n",
    "        trainlen.append(len(a))\n",
    "    else:\n",
    "        continue\n",
    "        \n",
    "#Create dataframe from lists\n",
    "mlplmu_clip = pd.DataFrame(columns=['run', 'prediction_prob_high', 'prediction_prob_mid', \n",
    "                                   'prediction_prob_low', 'prediction_prob_random', 'decision_high',\n",
    "                                   'decision_mid', 'decision_low', 'decision_random'])\n",
    "for i in range(len(mlplmu_clip_run)):\n",
    "    mlplmu_clip.loc[i]=[mlplmu_clip_run[i], mlplmu_clip_prob[i][:18], mlplmu_clip_prob[i][18:70], \n",
    "                       mlplmu_clip_prob[i][70:88], mlplmu_clip_prob[i][88:], mlplmu_clip_decision[i][:18],\n",
    "                       mlplmu_clip_decision[i][18:70], mlplmu_clip_decision[i][70:88], mlplmu_clip_decision[i][88:]]\n",
    "    \n",
    "mlplmu_clip.to_pickle(\"../Data/Output/mlplmu_clip.pkl\")"
   ]
  },
  {
   "cell_type": "markdown",
   "metadata": {},
   "source": [
    "Calculate average number of frames used for training, and get total number of clips used for training (70% of low engagement x 2)."
   ]
  },
  {
   "cell_type": "code",
   "execution_count": 5,
   "metadata": {},
   "outputs": [
    {
     "data": {
      "text/plain": [
       "71839.55"
      ]
     },
     "execution_count": 5,
     "metadata": {},
     "output_type": "execute_result"
    }
   ],
   "source": [
    "np.asarray(trainlen).mean()"
   ]
  },
  {
   "cell_type": "code",
   "execution_count": null,
   "metadata": {},
   "outputs": [],
   "source": []
  }
 ],
 "metadata": {
  "kernelspec": {
   "display_name": "Python 3",
   "language": "python",
   "name": "python3"
  },
  "language_info": {
   "codemirror_mode": {
    "name": "ipython",
    "version": 3
   },
   "file_extension": ".py",
   "mimetype": "text/x-python",
   "name": "python",
   "nbconvert_exporter": "python",
   "pygments_lexer": "ipython3",
   "version": "3.8.3"
  }
 },
 "nbformat": 4,
 "nbformat_minor": 2
}
