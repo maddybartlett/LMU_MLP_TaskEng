{
 "cells": [
  {
   "cell_type": "code",
   "execution_count": 1,
   "metadata": {},
   "outputs": [],
   "source": [
    "import pandas as pd\n",
    "import pickle\n",
    "import os\n",
    "import glob\n",
    "import numpy as np"
   ]
  },
  {
   "cell_type": "markdown",
   "metadata": {},
   "source": [
    "Get data directories."
   ]
  },
  {
   "cell_type": "code",
   "execution_count": 2,
   "metadata": {},
   "outputs": [],
   "source": [
    "data_dir_LRraw = 'D:\\\\NEN002\\\\LR_Raw' #Logistic Regression using raw data\n",
    "data_dir_LRlmu = 'D:\\\\NEN002\\\\LR_LMU' #Logistic Regression using lmu data\n",
    "\n",
    "data_dir_MLPraw = 'D:\\\\NEN002\\\\MLP_Raw' #MLP using raw data\n",
    "data_dir_MLPlmu = 'D:\\\\NEN002\\\\MLP_LMU' #MLP using lmu data"
   ]
  },
  {
   "cell_type": "markdown",
   "metadata": {},
   "source": [
    "Create Dataframe for each dataset"
   ]
  },
  {
   "cell_type": "markdown",
   "metadata": {},
   "source": [
    "Logistic Regression Without LMUs"
   ]
  },
  {
   "cell_type": "code",
   "execution_count": 3,
   "metadata": {},
   "outputs": [],
   "source": [
    "lrraw_clip_run=[] # run-number (0-19) \n",
    "lrraw_clip_prob=[] # 2-d array with probability of -1 classification and probability of +1 classification\n",
    "trainlen=[]\n",
    "#Collect data from each run into lists\n",
    "for fname in os.listdir(data_dir_LRraw):\n",
    "    dat = data_dir_LRraw+'\\\\'+fname\n",
    "    if 'prob' in fname:\n",
    "        a = np.load(dat, allow_pickle=True) \n",
    "        lrraw_clip_prob.append(a)\n",
    "        lrraw_clip_run.append(fname.split('_')[0])\n",
    "    elif 'train' in fname:\n",
    "        a = np.load(dat, allow_pickle=True) \n",
    "        trainlen.append(len(a))\n",
    "    else:\n",
    "        continue\n",
    "        \n",
    "#Create dataframe from lists\n",
    "lrraw_clip = pd.DataFrame(columns=['run', 'prediction_prob_high', 'prediction_prob_mid', \n",
    "                                   'prediction_prob_low', 'prediction_prob_random'])\n",
    "for i in range(len(lrraw_clip_run)):\n",
    "    lrraw_clip.loc[i]=[lrraw_clip_run[i], lrraw_clip_prob[i][:18], lrraw_clip_prob[i][18:70], \n",
    "                       lrraw_clip_prob[i][70:88], lrraw_clip_prob[i][88:]]\n",
    "    \n",
    "lrraw_clip.to_pickle(\"./lrraw_clip.pkl\")"
   ]
  },
  {
   "cell_type": "markdown",
   "metadata": {},
   "source": [
    "Logistic Regression With LMUs"
   ]
  },
  {
   "cell_type": "code",
   "execution_count": 4,
   "metadata": {},
   "outputs": [],
   "source": [
    "lrlmu_clip_run=[] # run-number (0-19) \n",
    "lrlmu_clip_prob=[] # 2-d array with probability of -1 classification and probability of +1 classification\n",
    "\n",
    "#Collect data from each run into lists\n",
    "for fname in os.listdir(data_dir_LRlmu):\n",
    "    dat = data_dir_LRlmu+'\\\\'+fname\n",
    "    if 'prob' in fname:\n",
    "        a = np.load(dat, allow_pickle=True) \n",
    "        lrlmu_clip_prob.append(a)\n",
    "        lrlmu_clip_run.append(fname.split('_')[0])\n",
    "    elif 'train' in fname:\n",
    "        a = np.load(dat, allow_pickle=True) \n",
    "        trainlen.append(len(a))\n",
    "    else:\n",
    "        continue\n",
    "        \n",
    "#Create dataframe from lists\n",
    "lrlmu_clip = pd.DataFrame(columns=['run', 'prediction_prob_high', 'prediction_prob_mid', \n",
    "                                   'prediction_prob_low', 'prediction_prob_random'])\n",
    "for i in range(len(lrlmu_clip_run)):\n",
    "    lrlmu_clip.loc[i]=[lrlmu_clip_run[i], lrlmu_clip_prob[i][:18], lrlmu_clip_prob[i][18:70], \n",
    "                       lrlmu_clip_prob[i][70:88], lrlmu_clip_prob[i][88:]]\n",
    "    \n",
    "lrlmu_clip.to_pickle(\"./lrlmu_clip.pkl\")"
   ]
  },
  {
   "cell_type": "markdown",
   "metadata": {},
   "source": [
    "Multi-Layer Perceptron Without LMUs"
   ]
  },
  {
   "cell_type": "code",
   "execution_count": 5,
   "metadata": {},
   "outputs": [],
   "source": [
    "mlpraw_clip_run=[] # run-number (0-19) \n",
    "mlpraw_clip_prob=[] # 2-d array with probability of -1 classification and probability of +1 classification\n",
    "mlpraw_clip_decision=[] # 2-d array of activation of the final hidden layer\n",
    "\n",
    "#Collect data from each run into lists\n",
    "for fname in os.listdir(data_dir_MLPraw):\n",
    "    dat = data_dir_MLPraw+'\\\\'+fname\n",
    "    if 'prob' in fname:\n",
    "        a = np.load(dat, allow_pickle=True) \n",
    "        mlpraw_clip_prob.append(a)\n",
    "        mlpraw_clip_run.append(fname.split('_')[0])\n",
    "    elif 'decision' in fname:\n",
    "        a = np.load(dat, allow_pickle=True) \n",
    "        mlpraw_clip_decision.append(a)\n",
    "    elif 'train' in fname:\n",
    "        a = np.load(dat, allow_pickle=True) \n",
    "        trainlen.append(len(a))\n",
    "    else:\n",
    "        continue\n",
    "        \n",
    "#Create dataframe from lists\n",
    "mlpraw_clip = pd.DataFrame(columns=['run', 'prediction_prob_high', 'prediction_prob_mid', \n",
    "                                   'prediction_prob_low', 'prediction_prob_random', 'decision_high',\n",
    "                                   'decision_mid', 'decision_low', 'decision_random'])\n",
    "for i in range(len(mlpraw_clip_run)):\n",
    "    mlpraw_clip.loc[i]=[mlpraw_clip_run[i], mlpraw_clip_prob[i][:18], mlpraw_clip_prob[i][18:70], \n",
    "                       mlpraw_clip_prob[i][70:88], mlpraw_clip_prob[i][88:], mlpraw_clip_decision[i][:18],\n",
    "                       mlpraw_clip_decision[i][18:70], mlpraw_clip_decision[i][70:88], mlpraw_clip_decision[i][88:]]\n",
    "    \n",
    "mlpraw_clip.to_pickle(\"./mlpraw_clip.pkl\")"
   ]
  },
  {
   "cell_type": "markdown",
   "metadata": {},
   "source": [
    "Multi-Layer Perceptron With LMUs"
   ]
  },
  {
   "cell_type": "code",
   "execution_count": 6,
   "metadata": {},
   "outputs": [],
   "source": [
    "mlplmu_clip_run=[] # run-number (0-19) \n",
    "mlplmu_clip_prob=[] # 2-d array with probability of -1 classification and probability of +1 classification\n",
    "mlplmu_clip_decision=[] # 2-d array of activation of the final hidden layer\n",
    "\n",
    "#Collect data from each run into lists\n",
    "for fname in os.listdir(data_dir_MLPlmu):\n",
    "    dat = data_dir_MLPlmu+'\\\\'+fname\n",
    "    if 'prob' in fname:\n",
    "        a = np.load(dat, allow_pickle=True) \n",
    "        mlplmu_clip_prob.append(a)\n",
    "        mlplmu_clip_run.append(fname.split('_')[0])\n",
    "    elif 'decision' in fname:\n",
    "        a = np.load(dat, allow_pickle=True) \n",
    "        mlplmu_clip_decision.append(a)\n",
    "    elif 'train' in fname:\n",
    "        a = np.load(dat, allow_pickle=True) \n",
    "        trainlen.append(len(a))\n",
    "    else:\n",
    "        continue\n",
    "        \n",
    "#Create dataframe from lists\n",
    "mlplmu_clip = pd.DataFrame(columns=['run', 'prediction_prob_high', 'prediction_prob_mid', \n",
    "                                   'prediction_prob_low', 'prediction_prob_random', 'decision_high',\n",
    "                                   'decision_mid', 'decision_low', 'decision_random'])\n",
    "for i in range(len(mlplmu_clip_run)):\n",
    "    mlplmu_clip.loc[i]=[mlplmu_clip_run[i], mlplmu_clip_prob[i][:18], mlplmu_clip_prob[i][18:70], \n",
    "                       mlplmu_clip_prob[i][70:88], mlplmu_clip_prob[i][88:], mlplmu_clip_decision[i][:18],\n",
    "                       mlplmu_clip_decision[i][18:70], mlplmu_clip_decision[i][70:88], mlplmu_clip_decision[i][88:]]\n",
    "    \n",
    "mlplmu_clip.to_pickle(\"./mlplmu_clip.pkl\")"
   ]
  },
  {
   "cell_type": "markdown",
   "metadata": {},
   "source": [
    "Calculate average number of frames used for training, and get total number of clips used for training (70% of low engagement x 2)."
   ]
  },
  {
   "cell_type": "code",
   "execution_count": 7,
   "metadata": {},
   "outputs": [
    {
     "data": {
      "text/plain": [
       "72016.15"
      ]
     },
     "execution_count": 7,
     "metadata": {},
     "output_type": "execute_result"
    }
   ],
   "source": [
    "np.asarray(trainlen).mean()"
   ]
  },
  {
   "cell_type": "code",
   "execution_count": 8,
   "metadata": {},
   "outputs": [
    {
     "data": {
      "text/plain": [
       "126"
      ]
     },
     "execution_count": 8,
     "metadata": {},
     "output_type": "execute_result"
    }
   ],
   "source": [
    "loweng=np.load('loweng.npy',allow_pickle=True)\n",
    "len(loweng[:(int(len(loweng)*0.7))])*2"
   ]
  },
  {
   "cell_type": "code",
   "execution_count": null,
   "metadata": {},
   "outputs": [],
   "source": []
  }
 ],
 "metadata": {
  "kernelspec": {
   "display_name": "Python 3",
   "language": "python",
   "name": "python3"
  },
  "language_info": {
   "codemirror_mode": {
    "name": "ipython",
    "version": 3
   },
   "file_extension": ".py",
   "mimetype": "text/x-python",
   "name": "python",
   "nbconvert_exporter": "python",
   "pygments_lexer": "ipython3",
   "version": "3.7.0"
  }
 },
 "nbformat": 4,
 "nbformat_minor": 2
}
