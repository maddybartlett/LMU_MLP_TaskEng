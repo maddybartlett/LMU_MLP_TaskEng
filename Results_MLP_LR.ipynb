{
 "cells": [
  {
   "cell_type": "code",
   "execution_count": 8,
   "metadata": {},
   "outputs": [],
   "source": [
    "%matplotlib inline\n",
    "\n",
    "import matplotlib.pyplot as plt\n",
    "from mpl_toolkits import mplot3d\n",
    "import seaborn as sns\n",
    "import numpy as np\n",
    "import pytry\n",
    "import pickle\n",
    "import glob\n",
    "import pandas as pd\n",
    "import os\n",
    "\n",
    "from scipy import stats\n",
    "import researchpy as rp\n",
    "from scipy.stats import norm\n",
    "\n",
    "import statsmodels.api as sm\n",
    "from statsmodels.formula.api import ols\n",
    "import statsmodels.stats.multicomp\n",
    "\n",
    "from sklearn.linear_model import LogisticRegression\n",
    "from sklearn.metrics import confusion_matrix, classification_report, precision_score\n",
    "from sklearn.dummy import DummyClassifier\n",
    "\n",
    "import warnings\n",
    "warnings.filterwarnings(\"ignore\")"
   ]
  },
  {
   "cell_type": "markdown",
   "metadata": {},
   "source": [
    "Load data."
   ]
  },
  {
   "cell_type": "code",
   "execution_count": 9,
   "metadata": {},
   "outputs": [],
   "source": [
    "lrraw_clip = pd.read_pickle(\"./lrraw_clip.pkl\") #logistic regression without lmus\n",
    "lrlmu_clip = pd.read_pickle(\"./lrlmu_clip.pkl\") #logistic regression with lmus\n",
    "mlpraw_clip = pd.read_pickle(\"./mlpraw_clip.pkl\") #mlp without lmus\n",
    "mlplmu_clip = pd.read_pickle(\"./mlplmu_clip.pkl\") #mlp without lmus"
   ]
  },
  {
   "cell_type": "markdown",
   "metadata": {},
   "source": [
    "# Frame-by-Frame Classification"
   ]
  },
  {
   "cell_type": "markdown",
   "metadata": {},
   "source": [
    "## LR Without LMUs"
   ]
  },
  {
   "cell_type": "code",
   "execution_count": 10,
   "metadata": {},
   "outputs": [],
   "source": [
    "lrraw_highframes=[]\n",
    "lrraw_midframes=[]\n",
    "lrraw_lowframes=[]\n",
    "lrraw_randframes=[]\n",
    "for i in range(20):\n",
    "    a=np.vstack(lrraw_clip['prediction_prob_high'][i])\n",
    "    lrraw_highframes.append(a)\n",
    "    \n",
    "    b=np.vstack(lrraw_clip['prediction_prob_mid'][i])\n",
    "    lrraw_midframes.append(b)\n",
    "    \n",
    "    c=np.vstack(lrraw_clip['prediction_prob_low'][i])\n",
    "    lrraw_lowframes.append(c)\n",
    "    \n",
    "    d=np.vstack(lrraw_clip['prediction_prob_random'][i])\n",
    "    lrraw_randframes.append(d)\n",
    "    \n",
    "lrraw_highframes_all = np.vstack(lrraw_highframes)\n",
    "lrraw_midframes_all = np.vstack(lrraw_midframes)\n",
    "lrraw_lowframes_all = np.vstack(lrraw_lowframes)\n",
    "lrraw_randframes_all = np.vstack(lrraw_randframes)"
   ]
  },
  {
   "cell_type": "code",
   "execution_count": 11,
   "metadata": {},
   "outputs": [
    {
     "data": {
      "text/plain": [
       "Text(0.5, 0.04, 'Probability of High Engagement')"
      ]
     },
     "execution_count": 11,
     "metadata": {},
     "output_type": "execute_result"
    },
    {
     "data": {
      "image/png": "[encoded data removed]",
      "text/plain": [
       "<Figure size 1080x324 with 4 Axes>"
      ]
     },
     "metadata": {
      "needs_background": "light"
     },
     "output_type": "display_data"
    }
   ],
   "source": [
    "bins=[0,0.1,0.2,0.3,0.4,0.5,0.6,0.7,0.8,0.9,1.0]\n",
    "\n",
    "#plot histograms - x-axis = probability of high engagement, y-axis = count\n",
    "fig, (ax1, ax2, ax3, ax4) = plt.subplots(1, 4, sharey=True, sharex=True, figsize=(15, 4.5))\n",
    "(nh, bins, plot) = ax1.hist(lrraw_highframes_all[:,1], bins=bins, color='black')\n",
    "ax1.title.set_text('High Test Frames')\n",
    "ax1.set_ylabel('Count', fontsize=12)\n",
    "(nm, bins, plot) = ax2.hist(lrraw_midframes_all[:,1], bins=bins, color='black')\n",
    "ax2.title.set_text('Intermediate Test Frames')\n",
    "(nl, bins, plot) = ax3.hist(lrraw_lowframes_all[:,1], bins=bins, color='black')\n",
    "ax3.title.set_text('Low Test Frames')\n",
    "ax4.hist(lrraw_randframes_all[:,1], bins=bins, color='black')\n",
    "ax4.title.set_text('Random Test Frames')\n",
    "\n",
    "lrrhigh_cor = (nh[9]/len(lrraw_highframes_all))*100\n",
    "lrrmid_cor = (nm[5]/len(lrraw_midframes_all))*100\n",
    "lrrlow_cor = (nl[0]/len(lrraw_lowframes_all))*100\n",
    "\n",
    "fig.suptitle('Logistic Regression without LMUs', fontsize=14)\n",
    "fig.text(0.5, 0.04, 'Probability of High Engagement', ha='center', fontsize=12)"
   ]
  },
  {
   "cell_type": "markdown",
   "metadata": {},
   "source": [
    "## LR With LMUs"
   ]
  },
  {
   "cell_type": "code",
   "execution_count": null,
   "metadata": {},
   "outputs": [],
   "source": [
    "lrlmu_highframes=[]\n",
    "lrlmu_midframes=[]\n",
    "lrlmu_lowframes=[]\n",
    "lrlmu_randframes=[]\n",
    "for i in range(20):\n",
    "    a=np.vstack(lrlmu_clip['prediction_prob_high'][i])\n",
    "    lrlmu_highframes.append(a)\n",
    "    \n",
    "    b=np.vstack(lrlmu_clip['prediction_prob_mid'][i])\n",
    "    lrlmu_midframes.append(b)\n",
    "    \n",
    "    c=np.vstack(lrlmu_clip['prediction_prob_low'][i])\n",
    "    lrlmu_lowframes.append(c)\n",
    "    \n",
    "    d=np.vstack(lrlmu_clip['prediction_prob_random'][i])\n",
    "    lrlmu_randframes.append(d)\n",
    "    \n",
    "lrlmu_highframes_all = np.vstack(lrlmu_highframes)\n",
    "lrlmu_midframes_all = np.vstack(lrlmu_midframes)\n",
    "lrlmu_lowframes_all = np.vstack(lrlmu_lowframes)\n",
    "lrlmu_randframes_all = np.vstack(lrlmu_randframes)"
   ]
  },
  {
   "cell_type": "code",
   "execution_count": null,
   "metadata": {},
   "outputs": [],
   "source": [
    "bins=[0,0.1,0.2,0.3,0.4,0.5,0.6,0.7,0.8,0.9,1.0]\n",
    "\n",
    "#plot histograms - x-axis = probability of high engagement, y-axis = count\n",
    "fig, (ax1, ax2, ax3, ax4) = plt.subplots(1, 4, sharey=True, sharex=True, figsize=(15, 4.5))\n",
    "(nh, bins, plot) = ax1.hist(lrlmu_highframes_all[:,1], bins=bins, color='black')\n",
    "ax1.title.set_text('High Test Frames')\n",
    "ax1.set_ylabel('Count', fontsize=12)\n",
    "(nm, bins, plot) = ax2.hist(lrlmu_midframes_all[:,1], bins=bins, color='black')\n",
    "ax2.title.set_text('Intermediate Test Frames')\n",
    "(nl, bins, plot) = ax3.hist(lrlmu_lowframes_all[:,1], bins=bins, color='black')\n",
    "ax3.title.set_text('Low Test Frames')\n",
    "ax4.hist(lrlmu_randframes_all[:,1], bins=bins, color='black')\n",
    "ax4.title.set_text('Random Test Frames')\n",
    "\n",
    "lrlhigh_cor = (nh[9]/len(lrlmu_highframes_all))*100\n",
    "lrlmid_cor = (nm[5]/len(lrlmu_midframes_all))*100\n",
    "lrllow_cor = (nl[0]/len(lrlmu_lowframes_all))*100\n",
    "\n",
    "fig.suptitle('Logistic Regression with LMUs', fontsize=14)\n",
    "fig.text(0.5, 0.04, 'Probability of High Engagement', ha='center', fontsize=12)"
   ]
  },
  {
   "cell_type": "markdown",
   "metadata": {},
   "source": [
    "## MLP Without LMUs"
   ]
  },
  {
   "cell_type": "code",
   "execution_count": null,
   "metadata": {},
   "outputs": [],
   "source": [
    "mlpraw_highframes=[]\n",
    "mlpraw_midframes=[]\n",
    "mlpraw_lowframes=[]\n",
    "mlpraw_randframes=[]\n",
    "for i in range(20):\n",
    "    a=np.vstack(mlpraw_clip['decision_high'][i])\n",
    "    mlpraw_highframes.append(a)\n",
    "    \n",
    "    b=np.vstack(mlpraw_clip['decision_mid'][i])\n",
    "    mlpraw_midframes.append(b)\n",
    "    \n",
    "    c=np.vstack(mlpraw_clip['decision_low'][i])\n",
    "    mlpraw_lowframes.append(c)\n",
    "    \n",
    "    d=np.vstack(mlpraw_clip['decision_random'][i])\n",
    "    mlpraw_randframes.append(d)\n",
    "    \n",
    "mlpraw_highframes_all = np.vstack(mlpraw_highframes)\n",
    "mlpraw_midframes_all = np.vstack(mlpraw_midframes)\n",
    "mlpraw_lowframes_all = np.vstack(mlpraw_lowframes)\n",
    "mlpraw_randframes_all = np.vstack(mlpraw_randframes)"
   ]
  },
  {
   "cell_type": "code",
   "execution_count": null,
   "metadata": {},
   "outputs": [],
   "source": [
    "bins=[0,0.1,0.2,0.3,0.4,0.5,0.6,0.7,0.8,0.9,1.0]\n",
    "\n",
    "#plot histograms - x-axis = decision score, y-axis = count\n",
    "fig, (ax1, ax2, ax3, ax4) = plt.subplots(1, 4, sharey=True, sharex=True, figsize=(15, 4.5))\n",
    "(nh, bins, plot) = ax1.hist(mlpraw_highframes_all[:,0], bins=bins, color='black')\n",
    "ax1.title.set_text('High Test Frames')\n",
    "ax1.set_ylabel('Count', fontsize=12)\n",
    "(nm, bins, plot) = ax2.hist(mlpraw_midframes_all[:,0], bins=bins, color='black')\n",
    "ax2.title.set_text('Intermediate Test Frames')\n",
    "(nl, bins, plot) = ax3.hist(mlpraw_lowframes_all[:,0], bins=bins, color='black')\n",
    "ax3.title.set_text('Low Test Frames')\n",
    "ax4.hist(mlpraw_randframes_all[:,0], bins=bins, color='black')\n",
    "ax4.title.set_text('Random Test Frames')\n",
    "\n",
    "mlprhigh_cor = (nh[9]/len(mlpraw_highframes_all))*100\n",
    "mlprmid_cor = (nm[5]/len(mlpraw_midframes_all))*100\n",
    "mlprlow_cor = (nl[0]/len(mlpraw_lowframes_all))*100\n",
    "\n",
    "fig.suptitle('MLP without LMUs', fontsize=14)\n",
    "fig.text(0.5, 0.04, 'Decision Score', ha='center', fontsize=12)"
   ]
  },
  {
   "cell_type": "markdown",
   "metadata": {},
   "source": [
    "## MLP With LMUs"
   ]
  },
  {
   "cell_type": "code",
   "execution_count": null,
   "metadata": {},
   "outputs": [],
   "source": [
    "mlplmu_highframes=[]\n",
    "mlplmu_midframes=[]\n",
    "mlplmu_lowframes=[]\n",
    "mlplmu_randframes=[]\n",
    "for i in range(20):\n",
    "    a=np.vstack(mlplmu_clip['decision_high'][i])\n",
    "    mlplmu_highframes.append(a)\n",
    "    \n",
    "    b=np.vstack(mlplmu_clip['decision_mid'][i])\n",
    "    mlplmu_midframes.append(b)\n",
    "    \n",
    "    c=np.vstack(mlplmu_clip['decision_low'][i])\n",
    "    mlplmu_lowframes.append(c)\n",
    "    \n",
    "    d=np.vstack(mlplmu_clip['decision_random'][i])\n",
    "    mlplmu_randframes.append(d)\n",
    "    \n",
    "mlplmu_highframes_all = np.vstack(mlplmu_highframes)\n",
    "mlplmu_midframes_all = np.vstack(mlplmu_midframes)\n",
    "mlplmu_lowframes_all = np.vstack(mlplmu_lowframes)\n",
    "mlplmu_randframes_all = np.vstack(mlplmu_randframes)"
   ]
  },
  {
   "cell_type": "code",
   "execution_count": null,
   "metadata": {},
   "outputs": [],
   "source": [
    "bins=[0,0.1,0.2,0.3,0.4,0.5,0.6,0.7,0.8,0.9,1.0]\n",
    "\n",
    "#plot histograms - x-axis = decision score, y-axis = count\n",
    "fig, (ax1, ax2, ax3, ax4) = plt.subplots(1, 4, sharey=True, sharex=True, figsize=(15, 4.5))\n",
    "(nh, bins, plot) = ax1.hist(mlplmu_highframes_all[:,0], bins=bins, color='black')\n",
    "ax1.title.set_text('High Test Frames')\n",
    "ax1.set_ylabel('Count', fontsize=12)\n",
    "(nm, bins, plot) = ax2.hist(mlplmu_midframes_all[:,0], bins=bins, color='black')\n",
    "ax2.title.set_text('Intermediate Test Frames')\n",
    "(nl, bins, plot) = ax3.hist(mlplmu_lowframes_all[:,0], bins=bins, color='black')\n",
    "ax3.title.set_text('Low Test Frames')\n",
    "ax4.hist(mlplmu_randframes_all[:,0], bins=bins, color='black')\n",
    "ax4.title.set_text('Random Test Frames')\n",
    "\n",
    "mlplhigh_cor = (nh[9]/len(mlplmu_highframes_all))*100\n",
    "mlplmid_cor = (nm[5]/len(mlplmu_midframes_all))*100\n",
    "mlpllow_cor = (nl[0]/len(mlplmu_lowframes_all))*100\n",
    "\n",
    "fig.suptitle('MLP with LMUs', fontsize=14)\n",
    "fig.text(0.5, 0.04, 'Decision Score', ha='center', fontsize=12)"
   ]
  },
  {
   "cell_type": "code",
   "execution_count": null,
   "metadata": {},
   "outputs": [],
   "source": [
    "Percent_Correct_Frames = pd.DataFrame({'LR w/o LMU % Correct': [f'{lrrhigh_cor:.2f}'+'%',\n",
    "                                                  f'{lrrmid_cor:.2f}'+'%',\n",
    "                                                  f'{lrrlow_cor:.2f}'+'%'],\n",
    "                                'LR with LMU % Correct': [f'{lrlhigh_cor:.2f}'+'%',\n",
    "                                                  f'{lrlmid_cor:.2f}'+'%',\n",
    "                                                  f'{lrllow_cor:.2f}'+'%'],\n",
    "                                'MLP w/o LMU % Correct': [f'{mlprhigh_cor:.2f}'+'%',\n",
    "                                                  f'{mlprmid_cor:.2f}'+'%',\n",
    "                                                  f'{mlprlow_cor:.2f}'+'%'],\n",
    "                                'MLP with LMU % Correct': [f'{lrlhigh_cor:.2f}'+'%',\n",
    "                                                  f'{mlplmid_cor:.2f}'+'%',\n",
    "                                                  f'{mlpllow_cor:.2f}'+'%']})\n",
    "\n",
    "Percent_Correct_Frames.set_index([pd.Index(['High Engagement', 'Intermediate Engagement', 'Low Engagement'])])"
   ]
  },
  {
   "cell_type": "markdown",
   "metadata": {},
   "source": [
    "# Mean Output for each Clip separated by Class"
   ]
  },
  {
   "cell_type": "markdown",
   "metadata": {},
   "source": [
    "Calculate and Collect Summary Statistics"
   ]
  },
  {
   "cell_type": "markdown",
   "metadata": {},
   "source": [
    "Logistic Regression without LMUs. <br>\n",
    "Get mean, std, skewness and kurtosis of probability of high engagement classification over each clip."
   ]
  },
  {
   "cell_type": "code",
   "execution_count": null,
   "metadata": {},
   "outputs": [],
   "source": [
    "high_summary=[]\n",
    "mid_summary=[]\n",
    "low_summary=[]\n",
    "random_summary=[]\n",
    "\n",
    "summaries=[]\n",
    "\n",
    "for j in range(len(lrraw_clip)):\n",
    "    for i in range(18):\n",
    "        mean=lrraw_clip.iloc[j]['prediction_prob_high'][i][:,1].mean()\n",
    "        std=lrraw_clip.iloc[j]['prediction_prob_high'][i][:,1].std()\n",
    "        skew=stats.skew(lrraw_clip.iloc[j]['prediction_prob_high'][i][:,1])\n",
    "        kurtosis=stats.kurtosis(lrraw_clip.iloc[j]['prediction_prob_high'][i][:,1])\n",
    "        label='high'\n",
    "        high_summary.append([mean,std,skew,kurtosis])\n",
    "        summaries.append([mean,std,skew,kurtosis,label])\n",
    "    for i in range(52):\n",
    "        mean=lrraw_clip.iloc[j]['prediction_prob_mid'][i][:,1].mean()\n",
    "        std=lrraw_clip.iloc[j]['prediction_prob_mid'][i][:,1].std()\n",
    "        skew=stats.skew(lrraw_clip.iloc[j]['prediction_prob_mid'][i][:,1])\n",
    "        kurtosis=stats.kurtosis(lrraw_clip.iloc[j]['prediction_prob_mid'][i][:,1])\n",
    "        label='mid'\n",
    "        mid_summary.append([mean,std,skew,kurtosis])\n",
    "        summaries.append([mean,std,skew,kurtosis,label])\n",
    "    for i in range(18):\n",
    "        mean=lrraw_clip.iloc[j]['prediction_prob_low'][i][:,1].mean()\n",
    "        std=lrraw_clip.iloc[j]['prediction_prob_low'][i][:,1].std()\n",
    "        skew=stats.skew(lrraw_clip.iloc[j]['prediction_prob_low'][i][:,1])\n",
    "        kurtosis=stats.kurtosis(lrraw_clip.iloc[j]['prediction_prob_low'][i][:,1])\n",
    "        label='low'\n",
    "        low_summary.append([mean,std,skew,kurtosis])\n",
    "        summaries.append([mean,std,skew,kurtosis,label])\n",
    "    for i in range(18):\n",
    "        mean=lrraw_clip.iloc[j]['prediction_prob_random'][i][:,1].mean()\n",
    "        std=lrraw_clip.iloc[j]['prediction_prob_random'][i][:,1].std()\n",
    "        skew=stats.skew(lrraw_clip.iloc[j]['prediction_prob_random'][i][:,1])\n",
    "        kurtosis=stats.kurtosis(lrraw_clip.iloc[j]['prediction_prob_random'][i][:,1])\n",
    "        label='random'\n",
    "        random_summary.append([mean,std,skew,kurtosis])\n",
    "        summaries.append([mean,std,skew,kurtosis,label])\n",
    "        \n",
    "high_lrraw_summary=np.asarray(high_summary)\n",
    "mid_lrraw_summary=np.asarray(mid_summary)\n",
    "low_lrraw_summary=np.asarray(low_summary)\n",
    "random_lrraw_summary=np.asarray(random_summary)\n",
    "summaries_lrraw=np.asarray(summaries)"
   ]
  },
  {
   "cell_type": "markdown",
   "metadata": {},
   "source": [
    "Logistic Regression with LMUs. <br>\n",
    "Get mean, std, skewness and kurtosis of probability of high engagement classification over each clip."
   ]
  },
  {
   "cell_type": "code",
   "execution_count": null,
   "metadata": {},
   "outputs": [],
   "source": [
    "high_summary=[]\n",
    "mid_summary=[]\n",
    "low_summary=[]\n",
    "random_summary=[]\n",
    "\n",
    "summaries=[]\n",
    "\n",
    "for j in range(len(lrlmu_clip)):\n",
    "    for i in range(18):\n",
    "        mean=lrlmu_clip.iloc[j]['prediction_prob_high'][i][:,1].mean()\n",
    "        std=lrlmu_clip.iloc[j]['prediction_prob_high'][i][:,1].std()\n",
    "        skew=stats.skew(lrlmu_clip.iloc[j]['prediction_prob_high'][i][:,1])\n",
    "        kurtosis=stats.kurtosis(lrlmu_clip.iloc[j]['prediction_prob_high'][i][:,1])\n",
    "        label='high'\n",
    "        high_summary.append([mean,std,skew,kurtosis])\n",
    "        summaries.append([mean,std,skew,kurtosis,label])\n",
    "    for i in range(52):\n",
    "        mean=lrlmu_clip.iloc[j]['prediction_prob_mid'][i][:,1].mean()\n",
    "        std=lrlmu_clip.iloc[j]['prediction_prob_mid'][i][:,1].std()\n",
    "        skew=stats.skew(lrlmu_clip.iloc[j]['prediction_prob_mid'][i][:,1])\n",
    "        kurtosis=stats.kurtosis(lrlmu_clip.iloc[j]['prediction_prob_mid'][i][:,1])\n",
    "        label='mid'\n",
    "        mid_summary.append([mean,std,skew,kurtosis])\n",
    "        summaries.append([mean,std,skew,kurtosis,label])\n",
    "    for i in range(18):\n",
    "        mean=lrlmu_clip.iloc[j]['prediction_prob_low'][i][:,1].mean()\n",
    "        std=lrlmu_clip.iloc[j]['prediction_prob_low'][i][:,1].std()\n",
    "        skew=stats.skew(lrlmu_clip.iloc[j]['prediction_prob_low'][i][:,1])\n",
    "        kurtosis=stats.kurtosis(lrlmu_clip.iloc[j]['prediction_prob_low'][i][:,1])\n",
    "        label='low'\n",
    "        low_summary.append([mean,std,skew,kurtosis])\n",
    "        summaries.append([mean,std,skew,kurtosis,label])\n",
    "    for i in range(18):\n",
    "        mean=lrlmu_clip.iloc[j]['prediction_prob_random'][i][:,1].mean()\n",
    "        std=lrlmu_clip.iloc[j]['prediction_prob_random'][i][:,1].std()\n",
    "        skew=stats.skew(lrlmu_clip.iloc[j]['prediction_prob_random'][i][:,1])\n",
    "        kurtosis=stats.kurtosis(lrlmu_clip.iloc[j]['prediction_prob_random'][i][:,1])\n",
    "        label='random'\n",
    "        random_summary.append([mean,std,skew,kurtosis])\n",
    "        summaries.append([mean,std,skew,kurtosis,label])\n",
    "        \n",
    "high_lrlmu_summary=np.asarray(high_summary)\n",
    "mid_lrlmu_summary=np.asarray(mid_summary)\n",
    "low_lrlmu_summary=np.asarray(low_summary)\n",
    "random_lrlmu_summary=np.asarray(random_summary)\n",
    "summaries_lrlmu=np.asarray(summaries)"
   ]
  },
  {
   "cell_type": "markdown",
   "metadata": {},
   "source": [
    "MLP without LMUs. <br>\n",
    "Get mean, std, skewness and kurtosis of the decision values over each clip."
   ]
  },
  {
   "cell_type": "code",
   "execution_count": null,
   "metadata": {},
   "outputs": [],
   "source": [
    "high_summary=[]\n",
    "mid_summary=[]\n",
    "low_summary=[]\n",
    "random_summary=[]\n",
    "\n",
    "summaries=[]\n",
    "\n",
    "for j in range(len(mlpraw_clip)):\n",
    "    for i in range(18):\n",
    "        mean=mlpraw_clip.iloc[j]['decision_high'][i][:,0].mean()\n",
    "        std=mlpraw_clip.iloc[j]['decision_high'][i][:,0].std()\n",
    "        skew=stats.skew(mlpraw_clip.iloc[j]['decision_high'][i][:,0])\n",
    "        kurtosis=stats.kurtosis(mlpraw_clip.iloc[j]['decision_high'][i][:,0])\n",
    "        label='high'\n",
    "        high_summary.append([mean,std,skew,kurtosis])\n",
    "        summaries.append([mean,std,skew,kurtosis,label])\n",
    "    for i in range(52):\n",
    "        mean=mlpraw_clip.iloc[j]['decision_mid'][i][:,0].mean()\n",
    "        std=mlpraw_clip.iloc[j]['decision_mid'][i][:,0].std()\n",
    "        skew=stats.skew(mlpraw_clip.iloc[j]['decision_mid'][i][:,0])\n",
    "        kurtosis=stats.kurtosis(mlpraw_clip.iloc[j]['decision_mid'][i][:,0])\n",
    "        label='mid'\n",
    "        mid_summary.append([mean,std,skew,kurtosis])\n",
    "        summaries.append([mean,std,skew,kurtosis,label])\n",
    "    for i in range(18):\n",
    "        mean=mlpraw_clip.iloc[j]['decision_low'][i][:,0].mean()\n",
    "        std=mlpraw_clip.iloc[j]['decision_low'][i][:,0].std()\n",
    "        skew=stats.skew(mlpraw_clip.iloc[j]['decision_low'][i][:,0])\n",
    "        kurtosis=stats.kurtosis(mlpraw_clip.iloc[j]['decision_low'][i][:,0])\n",
    "        label='low'\n",
    "        low_summary.append([mean,std,skew,kurtosis])\n",
    "        summaries.append([mean,std,skew,kurtosis,label])\n",
    "    for i in range(18):\n",
    "        mean=mlpraw_clip.iloc[j]['decision_random'][i][:,0].mean()\n",
    "        std=mlpraw_clip.iloc[j]['decision_random'][i][:,0].std()\n",
    "        skew=stats.skew(mlpraw_clip.iloc[j]['decision_random'][i][:,0])\n",
    "        kurtosis=stats.kurtosis(mlpraw_clip.iloc[j]['decision_random'][i][:,0])\n",
    "        label='random'\n",
    "        random_summary.append([mean,std,skew,kurtosis])\n",
    "        summaries.append([mean,std,skew,kurtosis,label])\n",
    "        \n",
    "high_mlpraw_summary=np.asarray(high_summary)\n",
    "mid_mlpraw_summary=np.asarray(mid_summary)\n",
    "low_mlpraw_summary=np.asarray(low_summary)\n",
    "random_mlpraw_summary=np.asarray(random_summary)\n",
    "summaries_mlpraw=np.asarray(summaries)"
   ]
  },
  {
   "cell_type": "markdown",
   "metadata": {},
   "source": [
    "MLP with LMUs. <br>\n",
    "Get mean, std, skewness and kurtosis of the decision values over each clip."
   ]
  },
  {
   "cell_type": "code",
   "execution_count": null,
   "metadata": {},
   "outputs": [],
   "source": [
    "high_summary=[]\n",
    "mid_summary=[]\n",
    "low_summary=[]\n",
    "random_summary=[]\n",
    "\n",
    "summaries=[]\n",
    "\n",
    "for j in range(len(mlplmu_clip)):\n",
    "    for i in range(18):\n",
    "        mean=mlplmu_clip.iloc[j]['decision_high'][i][:,0].mean()\n",
    "        std=mlplmu_clip.iloc[j]['decision_high'][i][:,0].std()\n",
    "        skew=stats.skew(mlplmu_clip.iloc[j]['decision_high'][i][:,0])\n",
    "        kurtosis=stats.kurtosis(mlplmu_clip.iloc[j]['decision_high'][i][:,0])\n",
    "        label='high'\n",
    "        high_summary.append([mean,std,skew,kurtosis])\n",
    "        summaries.append([mean,std,skew,kurtosis,label])\n",
    "    for i in range(52):\n",
    "        mean=mlplmu_clip.iloc[j]['decision_mid'][i][:,0].mean()\n",
    "        std=mlplmu_clip.iloc[j]['decision_mid'][i][:,0].std()\n",
    "        skew=stats.skew(mlplmu_clip.iloc[j]['decision_mid'][i][:,0])\n",
    "        kurtosis=stats.kurtosis(mlplmu_clip.iloc[j]['decision_mid'][i][:,0])\n",
    "        label='mid'\n",
    "        mid_summary.append([mean,std,skew,kurtosis])\n",
    "        summaries.append([mean,std,skew,kurtosis,label])\n",
    "    for i in range(18):\n",
    "        mean=mlplmu_clip.iloc[j]['decision_low'][i][:,0].mean()\n",
    "        std=mlplmu_clip.iloc[j]['decision_low'][i][:,0].std()\n",
    "        skew=stats.skew(mlplmu_clip.iloc[j]['decision_low'][i][:,0])\n",
    "        kurtosis=stats.kurtosis(mlplmu_clip.iloc[j]['decision_low'][i][:,0])\n",
    "        label='low'\n",
    "        low_summary.append([mean,std,skew,kurtosis])\n",
    "        summaries.append([mean,std,skew,kurtosis,label])\n",
    "    for i in range(18):\n",
    "        mean=mlplmu_clip.iloc[j]['decision_random'][i][:,0].mean()\n",
    "        std=mlplmu_clip.iloc[j]['decision_random'][i][:,0].std()\n",
    "        skew=stats.skew(mlplmu_clip.iloc[j]['decision_random'][i][:,0])\n",
    "        kurtosis=stats.kurtosis(mlplmu_clip.iloc[j]['decision_random'][i][:,0])\n",
    "        label='random'\n",
    "        random_summary.append([mean,std,skew,kurtosis])\n",
    "        summaries.append([mean,std,skew,kurtosis,label])\n",
    "        \n",
    "high_mlplmu_summary=np.asarray(high_summary)\n",
    "mid_mlplmu_summary=np.asarray(mid_summary)\n",
    "low_mlplmu_summary=np.asarray(low_summary)\n",
    "random_mlplmu_summary=np.asarray(random_summary)\n",
    "summaries_mlplmu=np.asarray(summaries)"
   ]
  },
  {
   "cell_type": "markdown",
   "metadata": {},
   "source": [
    "## Logistic Regression Without LMUs"
   ]
  },
  {
   "cell_type": "code",
   "execution_count": null,
   "metadata": {},
   "outputs": [],
   "source": [
    "#Plot the mean probability that each test clip would be \n",
    "#classed as Noplay across all 20 experiments\n",
    "bins=[0,0.1,0.2,0.3,0.4,0.5,0.6,0.7,0.8,0.9,1.0]\n",
    "\n",
    "#plot histograms - x-axis = mean prediction probability, y-axis = count\n",
    "fig, (ax1, ax2, ax3, ax4) = plt.subplots(1, 4, sharey=True, sharex=True, figsize=(15, 4.5))\n",
    "(nh, bins, plot) = ax1.hist(high_lrraw_summary[:,0], bins=bins, color='black')\n",
    "ax1.title.set_text('High Test Clips')\n",
    "ax1.set_ylabel('Count', fontsize=12)\n",
    "(nm, bins, plot) = ax2.hist(mid_lrraw_summary[:,0], bins=bins, color='black')\n",
    "ax2.title.set_text('Intermediate Test Clips')\n",
    "(nl, bins, plot) = ax3.hist(low_lrraw_summary[:,0], bins=bins, color='black')\n",
    "ax3.title.set_text('Low Test Clips')\n",
    "ax4.hist(random_lrraw_summary[:,0], bins=bins, color='black')\n",
    "ax4.title.set_text('Random Test Clips')\n",
    "\n",
    "lrrhigh_cor = (nh[9]/len(high_lrraw_summary))*100\n",
    "lrrmid_cor = (nm[5]/len(mid_lrraw_summary))*100\n",
    "lrrlow_cor = (nl[0]/len(low_lrraw_summary))*100\n",
    "\n",
    "fig.suptitle('Logistic Regression without LMUs', fontsize=14)\n",
    "fig.text(0.5, 0.04, 'Mean Probability of High', ha='center', fontsize=12)"
   ]
  },
  {
   "cell_type": "markdown",
   "metadata": {},
   "source": [
    "## Logistic Regression With LMUs"
   ]
  },
  {
   "cell_type": "code",
   "execution_count": null,
   "metadata": {},
   "outputs": [],
   "source": [
    "#Plot the mean probability that each test clip would be \n",
    "#classed as Noplay across all 20 experiments\n",
    "bins=[0,0.1,0.2,0.3,0.4,0.5,0.6,0.7,0.8,0.9,1.0]\n",
    "\n",
    "#plot histograms - x-axis = mean prediction probability, y-axis = count\n",
    "fig, (ax1, ax2, ax3, ax4) = plt.subplots(1, 4, sharey=True, sharex=True, figsize=(15, 4.5))\n",
    "(nh, bins, plot) = ax1.hist(high_lrlmu_summary[:,0], bins=bins, color='black')\n",
    "ax1.title.set_text('High Test Clips')\n",
    "ax1.set_ylabel('Count', fontsize=12)\n",
    "(nm, bins, plot) = ax2.hist(mid_lrlmu_summary[:,0], bins=bins, color='black')\n",
    "ax2.title.set_text('Intermediate Test Clips')\n",
    "(nl, bins, plot) = ax3.hist(low_lrlmu_summary[:,0], bins=bins, color='black')\n",
    "ax3.title.set_text('Low Test Clips')\n",
    "ax4.hist(random_lrlmu_summary[:,0], bins=bins, color='black')\n",
    "ax4.title.set_text('Random Test Clips')\n",
    "\n",
    "lrlhigh_cor = (nh[9]/len(high_lrlmu_summary))*100\n",
    "lrlmid_cor = (nm[5]/len(mid_lrlmu_summary))*100\n",
    "lrllow_cor = (nl[0]/len(low_lrlmu_summary))*100\n",
    "\n",
    "fig.suptitle('Logistic Regression with LMUs', fontsize=14)\n",
    "fig.text(0.5, 0.04, 'Mean Probability of High', ha='center', fontsize=12)"
   ]
  },
  {
   "cell_type": "markdown",
   "metadata": {},
   "source": [
    "## MLP Without LMUs"
   ]
  },
  {
   "cell_type": "code",
   "execution_count": null,
   "metadata": {},
   "outputs": [],
   "source": [
    "#Plot the mean decision value for each clip\n",
    "bins=[0,0.1,0.2,0.3,0.4,0.5,0.6,0.7,0.8,0.9,1.0]\n",
    "\n",
    "#plot histograms - x-axis = mean decision value, y-axis = count\n",
    "fig, (ax1, ax2, ax3, ax4) = plt.subplots(1, 4, sharey=True, sharex=True, figsize=(15, 4.5))\n",
    "(nh, bins, plot) = ax1.hist(high_mlpraw_summary[:,0], bins=bins, color='black')\n",
    "ax1.title.set_text('High Test Clips')\n",
    "ax1.set_ylabel('Count', fontsize=12)\n",
    "(nm, bins, plot) = ax2.hist(mid_mlpraw_summary[:,0], bins=bins, color='black')\n",
    "ax2.title.set_text('Intermediate Test Clips')\n",
    "(nl, bins, plot) = ax3.hist(low_mlpraw_summary[:,0], bins=bins, color='black')\n",
    "ax3.title.set_text('Low Test Clips')\n",
    "ax4.hist(random_mlpraw_summary[:,0], bins=bins, color='black')\n",
    "ax4.title.set_text('Random Test Clips')\n",
    "\n",
    "mlprhigh_cor = (nh[9]/len(high_mlpraw_summary))*100\n",
    "mlprmid_cor = (nm[5]/len(mid_mlpraw_summary))*100\n",
    "mlprlow_cor = (nl[0]/len(low_mlpraw_summary))*100\n",
    "\n",
    "fig.suptitle('MLP without LMUs', fontsize=14)\n",
    "fig.text(0.5, 0.04, 'Mean Decision Value', ha='center', fontsize=12)"
   ]
  },
  {
   "cell_type": "markdown",
   "metadata": {},
   "source": [
    "## MLP With LMUs"
   ]
  },
  {
   "cell_type": "code",
   "execution_count": null,
   "metadata": {
    "scrolled": true
   },
   "outputs": [],
   "source": [
    "#Plot the mean decision value for each clip\n",
    "bins=[0,0.1,0.2,0.3,0.4,0.5,0.6,0.7,0.8,0.9,1.0]\n",
    "\n",
    "#plot histograms - x-axis = mean decision value, y-axis = count\n",
    "fig, (ax1, ax2, ax3, ax4) = plt.subplots(1, 4, sharey=True, sharex=True, figsize=(15, 4.5))\n",
    "(nh, bins, plot) = ax1.hist(high_mlplmu_summary[:,0], bins=bins, color='black')\n",
    "ax1.title.set_text('High Test Clips')\n",
    "ax1.set_ylabel('Count', fontsize=12)\n",
    "(nm, bins, plot) = ax2.hist(mid_mlplmu_summary[:,0], bins=bins, color='black')\n",
    "ax2.title.set_text('Intermediate Test Clips')\n",
    "(nl, bins, plot) = ax3.hist(low_mlplmu_summary[:,0], bins=bins, color='black')\n",
    "ax3.title.set_text('Low Test Clips')\n",
    "ax4.hist(random_mlplmu_summary[:,0], bins=bins, color='black')\n",
    "ax4.title.set_text('Random Test Clips')\n",
    "\n",
    "mlplhigh_cor = (nh[9]/len(high_mlplmu_summary))*100\n",
    "mlplmid_cor = (nm[5]/len(mid_mlplmu_summary))*100\n",
    "mlpllow_cor = (nl[0]/len(low_mlplmu_summary))*100\n",
    "\n",
    "fig.suptitle('MLP with LMUs', fontsize=14)\n",
    "fig.text(0.5, 0.04, 'Mean Decision Value', ha='center', fontsize=12)"
   ]
  },
  {
   "cell_type": "code",
   "execution_count": null,
   "metadata": {},
   "outputs": [],
   "source": [
    "Percent_Correct_Clips = pd.DataFrame({'LR w/o LMU % Correct': [f'{lrrhigh_cor:.2f}'+'%',\n",
    "                                                  f'{lrrmid_cor:.2f}'+'%',\n",
    "                                                  f'{lrrlow_cor:.2f}'+'%'],\n",
    "                                'LR with LMU % Correct': [f'{lrlhigh_cor:.2f}'+'%',\n",
    "                                                  f'{lrlmid_cor:.2f}'+'%',\n",
    "                                                  f'{lrllow_cor:.2f}'+'%'],\n",
    "                                'MLP w/o LMU % Correct': [f'{mlprhigh_cor:.2f}'+'%',\n",
    "                                                  f'{mlprmid_cor:.2f}'+'%',\n",
    "                                                  f'{mlprlow_cor:.2f}'+'%'],\n",
    "                                'MLP with LMU % Correct': [f'{lrlhigh_cor:.2f}'+'%',\n",
    "                                                  f'{mlplmid_cor:.2f}'+'%',\n",
    "                                                  f'{mlpllow_cor:.2f}'+'%']})\n",
    "\n",
    "Percent_Correct_Clips.set_index([pd.Index(['High Engagement', 'Intermediate Engagement', 'Low Engagement'])])"
   ]
  },
  {
   "cell_type": "markdown",
   "metadata": {},
   "source": [
    "# Classifier Output across Clip Timeline"
   ]
  },
  {
   "cell_type": "markdown",
   "metadata": {},
   "source": [
    "## Logistic Regression Without LMUs\n",
    "Plot probability of high classification across timeline of each clip"
   ]
  },
  {
   "cell_type": "code",
   "execution_count": null,
   "metadata": {},
   "outputs": [],
   "source": [
    "%matplotlib inline\n",
    "import matplotlib.pyplot as plt\n",
    "for j in range(20): # for each experiment create 1 plot    \n",
    "    fig, (ax1, ax2, ax3, ax4) = plt.subplots(1, 4, sharey=True, figsize=(15, 4.5))\n",
    "    for i in range(18): # for each clip plot 1 line\n",
    "        a=lrraw_clip.iloc[j]['prediction_prob_high'][i]\n",
    "        ax1.plot(a[:,1])\n",
    "        ax1.set_xlim(0,1000)\n",
    "        ax1.set_ylabel('Probability of High', fontsize=12)\n",
    "        ax1.set_xlabel('Frame', fontsize=12)\n",
    "        ax1.title.set_text('High Clips Exp %s' % j)\n",
    "        \n",
    "        b=lrraw_clip.iloc[j]['prediction_prob_mid'][i]\n",
    "        ax2.plot(b[:,1])\n",
    "        ax2.set_xlim(0,1000)\n",
    "        ax2.set_xlabel('Frame', fontsize=12)\n",
    "        ax2.title.set_text('Intermediate Clips Exp %s' % j)\n",
    "        \n",
    "        c=lrraw_clip.iloc[j]['prediction_prob_low'][i]\n",
    "        ax3.plot(c[:,1])\n",
    "        ax3.set_xlim(0,1000)\n",
    "        ax3.set_xlabel('Frame', fontsize=12)\n",
    "        ax3.title.set_text('Low Clips Exp %s' % j)\n",
    "        \n",
    "        d=lrraw_clip.iloc[j]['prediction_prob_random'][i]\n",
    "        ax4.plot(d[:,1])\n",
    "        ax4.set_xlim(0,1000)\n",
    "        ax4.set_xlabel('Frame', fontsize=12)\n",
    "        ax4.title.set_text('Random Clips Exp %s' % j)"
   ]
  },
  {
   "cell_type": "markdown",
   "metadata": {},
   "source": [
    "## Logistic Regression With LMUs\n",
    "Plot probability of high classification across timeline of each clip"
   ]
  },
  {
   "cell_type": "code",
   "execution_count": null,
   "metadata": {},
   "outputs": [],
   "source": [
    "for j in range(20): # for each experiment create 1 plot    \n",
    "    fig, (ax1, ax2, ax3, ax4) = plt.subplots(1, 4, sharey=True, figsize=(15, 4.5))\n",
    "    for i in range(18): # for each clip plot 1 line\n",
    "        a=lrlmu_clip.iloc[j]['prediction_prob_high'][i]\n",
    "        ax1.plot(a[:,1])\n",
    "        ax1.set_xlim(0,1000)\n",
    "        ax1.set_ylabel('Probability of High', fontsize=12)\n",
    "        ax1.set_xlabel('Frame', fontsize=12)\n",
    "        ax1.title.set_text('High Clips Exp %s' % j)\n",
    "        \n",
    "        b=lrlmu_clip.iloc[j]['prediction_prob_mid'][i]\n",
    "        ax2.plot(b[:,1])\n",
    "        ax2.set_xlim(0,1000)\n",
    "        ax2.set_xlabel('Frame', fontsize=12)\n",
    "        ax2.title.set_text('Intermediate Clips Exp %s' % j)\n",
    "        \n",
    "        c=lrlmu_clip.iloc[j]['prediction_prob_low'][i]\n",
    "        ax3.plot(c[:,1])\n",
    "        ax3.set_xlim(0,1000)\n",
    "        ax3.set_xlabel('Frame', fontsize=12)\n",
    "        ax3.title.set_text('Low Clips Exp %s' % j)\n",
    "        \n",
    "        d=lrlmu_clip.iloc[j]['prediction_prob_random'][i]\n",
    "        ax4.plot(d[:,1])\n",
    "        ax4.set_xlim(0,1000)\n",
    "        ax4.set_xlabel('Frame', fontsize=12)\n",
    "        ax4.title.set_text('Random Clips Exp %s' % j)"
   ]
  },
  {
   "cell_type": "markdown",
   "metadata": {},
   "source": [
    "## MLP Without LMUs\n",
    "Plot decision value across timeline of each clip"
   ]
  },
  {
   "cell_type": "code",
   "execution_count": null,
   "metadata": {},
   "outputs": [],
   "source": [
    "for j in range(20): # for each experiment create 1 plot    \n",
    "    fig, (ax1, ax2, ax3, ax4) = plt.subplots(1, 4, sharey=True, figsize=(15, 4.5))\n",
    "    for i in range(18): # for each clip plot 1 line\n",
    "        a=mlpraw_clip.iloc[j]['decision_high'][i]\n",
    "        ax1.plot(a[:,0])\n",
    "        ax1.set_xlim(0,1000)\n",
    "        ax1.set_ylabel('Decision Value', fontsize=12)\n",
    "        ax1.set_xlabel('Frame', fontsize=12)\n",
    "        ax1.title.set_text('High Clips Exp %s' % j)\n",
    "        \n",
    "        b=mlpraw_clip.iloc[j]['decision_mid'][i]\n",
    "        ax2.plot(b[:,0])\n",
    "        ax2.set_xlim(0,1000)\n",
    "        ax2.set_xlabel('Frame', fontsize=12)\n",
    "        ax2.title.set_text('Intermediate Clips Exp %s' % j)\n",
    "        \n",
    "        c=mlpraw_clip.iloc[j]['decision_low'][i]\n",
    "        ax3.plot(c[:,0])\n",
    "        ax3.set_xlim(0,1000)\n",
    "        ax3.set_xlabel('Frame', fontsize=12)\n",
    "        ax3.title.set_text('Low Clips Exp %s' % j)\n",
    "        \n",
    "        d=mlpraw_clip.iloc[j]['decision_random'][i]\n",
    "        ax4.plot(d[:,0])\n",
    "        ax4.set_xlim(0,1000)\n",
    "        ax4.set_xlabel('Frame', fontsize=12)\n",
    "        ax4.title.set_text('Random Clips Exp %s' % j)"
   ]
  },
  {
   "cell_type": "markdown",
   "metadata": {},
   "source": [
    "## MLP With LMUs\n",
    "Plot decision value across timeline of each clip"
   ]
  },
  {
   "cell_type": "code",
   "execution_count": null,
   "metadata": {},
   "outputs": [],
   "source": [
    "for j in range(20): # for each experiment create 1 plot    \n",
    "    fig, (ax1, ax2, ax3, ax4) = plt.subplots(1, 4, sharey=True, figsize=(15, 4.5))\n",
    "    for i in range(18): # for each clip plot 1 line\n",
    "        a=mlplmu_clip.iloc[j]['decision_high'][i]\n",
    "        ax1.plot(a[:,0])\n",
    "        ax1.set_xlim(0,1000)\n",
    "        ax1.set_ylabel('Decision Value', fontsize=12)\n",
    "        ax1.set_xlabel('Frame', fontsize=12)\n",
    "        ax1.title.set_text('High Clips Exp %s' % j)\n",
    "        \n",
    "        b=mlplmu_clip.iloc[j]['decision_mid'][i]\n",
    "        ax2.plot(b[:,0])\n",
    "        ax2.set_xlim(0,1000)\n",
    "        ax2.set_xlabel('Frame', fontsize=12)\n",
    "        ax2.title.set_text('Intermediate Clips Exp %s' % j)\n",
    "        \n",
    "        c=mlplmu_clip.iloc[j]['decision_low'][i]\n",
    "        ax3.plot(c[:,0])\n",
    "        ax3.set_xlim(0,1000)\n",
    "        ax3.set_xlabel('Frame', fontsize=12)\n",
    "        ax3.title.set_text('Low Clips Exp %s' % j)\n",
    "        \n",
    "        d=mlplmu_clip.iloc[j]['decision_random'][i]\n",
    "        ax4.plot(d[:,0])\n",
    "        ax4.set_xlim(0,1000)\n",
    "        ax4.set_xlabel('Frame', fontsize=12)\n",
    "        ax4.title.set_text('Random Clips Exp %s' % j)"
   ]
  },
  {
   "cell_type": "markdown",
   "metadata": {},
   "source": [
    "# Cluster Plots of Summary Statistics for each Class"
   ]
  },
  {
   "cell_type": "markdown",
   "metadata": {},
   "source": [
    "## Logistic Regression Without LMUs"
   ]
  },
  {
   "cell_type": "code",
   "execution_count": null,
   "metadata": {},
   "outputs": [],
   "source": [
    "fig, (ax1, ax2) = plt.subplots(1, 2, sharey=True, sharex=True, figsize=(15, 4.5))\n",
    "ax1.scatter(high_lrraw_summary[:,0],high_lrraw_summary[:,1], alpha=0.7, color='black', label='high')\n",
    "ax1.scatter(low_lrraw_summary[:,0],low_lrraw_summary[:,1], alpha=0.7, color='grey', label='low')\n",
    "ax1.set_xlabel('Mean', fontsize=12)\n",
    "ax1.set_ylabel('STD', fontsize=12)\n",
    "ax1.legend(loc=(1,0))\n",
    "ax1.title.set_text('Mean and STD for High and Low Clips')\n",
    "\n",
    "ax2.scatter(high_lrraw_summary[:,0],high_lrraw_summary[:,1], alpha=0.7, color='black', label='high')\n",
    "ax2.scatter(mid_lrraw_summary[:,0],mid_lrraw_summary[:,1], alpha=0.7, color='orange', label='intermediate')\n",
    "ax2.scatter(low_lrraw_summary[:,0],low_lrraw_summary[:,1], alpha=0.7, color='grey', label='low')\n",
    "ax2.scatter(random_lrraw_summary[:,0],random_lrraw_summary[:,1], alpha=0.7, color='blue', label='random')\n",
    "ax2.set_xlabel('Mean', fontsize=12)\n",
    "ax2.set_ylabel('STD', fontsize=12)\n",
    "ax2.legend(loc=(1,0))\n",
    "ax2.title.set_text('Mean and STD for All Clips')"
   ]
  },
  {
   "cell_type": "code",
   "execution_count": null,
   "metadata": {},
   "outputs": [],
   "source": [
    "%matplotlib notebook\n",
    "%matplotlib notebook\n",
    "import matplotlib.pyplot as plt\n",
    "\n",
    "ax = plt.axes(projection='3d')\n",
    "ax.scatter(high_lrraw_summary[:,0],high_lrraw_summary[:,1],high_lrraw_summary[:,2], alpha=0.7, color='black', label='high')\n",
    "ax.scatter(mid_lrraw_summary[:,0],mid_lrraw_summary[:,1],mid_lrraw_summary[:,2], alpha=0.7, color='orange', label='intermediate')\n",
    "ax.scatter(low_lrraw_summary[:,0],low_lrraw_summary[:,1],low_lrraw_summary[:,2], alpha=0.7, color='grey', label='low')\n",
    "ax.scatter(random_lrraw_summary[:,0],random_lrraw_summary[:,1],random_lrraw_summary[:,2], alpha=0.7, color='blue', label='random')\n",
    "ax.set_ylabel('STD', fontsize=12)\n",
    "ax.set_xlabel('Mean', fontsize=12)\n",
    "ax.set_zlabel('Skewness', fontsize=12)\n",
    "ax.legend(loc=(0.9,0))\n",
    "ax.title.set_text('Mean, STD and Skewness for All Clips')"
   ]
  },
  {
   "cell_type": "markdown",
   "metadata": {},
   "source": [
    "Multilabel Logistic Regression <br>\n",
    "How well can we (linearly) separate clip classes based on summary statistics? <br>\n",
    "First calculate baseline - how well would our classifier generates predictions by respecting the training set’s class distribution?"
   ]
  },
  {
   "cell_type": "code",
   "execution_count": null,
   "metadata": {},
   "outputs": [],
   "source": [
    "X = summaries_lrraw[:,:4]\n",
    "X = X.astype(np.float)\n",
    "y = summaries_lrraw[:,4]\n",
    "dummy_clf = DummyClassifier(strategy=\"stratified\")\n",
    "dummy_clf.fit(X, y)\n",
    "dummy_clf.predict(X)\n",
    "\n",
    "print('Baseline Logistic Regression using mean, sd, skewness and kurtosis as predictors.')\n",
    "print('Score: ', dummy_clf.score(X, y))\n",
    "\n",
    "print(dummy_clf.classes_)\n",
    "y_pred = dummy_clf.predict(X)  \n",
    "print(confusion_matrix(y, y_pred))"
   ]
  },
  {
   "cell_type": "markdown",
   "metadata": {},
   "source": [
    "Now we do it for real."
   ]
  },
  {
   "cell_type": "code",
   "execution_count": null,
   "metadata": {},
   "outputs": [],
   "source": [
    "X = summaries_lrraw[:,:4]\n",
    "X = X.astype(np.float)\n",
    "y = summaries_lrraw[:,4]\n",
    "\n",
    "print('Logistic Regression using mean, sd, skewness and kurtosis as predictors.')\n",
    "\n",
    "clf = LogisticRegression(solver='lbfgs', multi_class='multinomial').fit(X, y)\n",
    "print('Score: ', clf.score(X, y))\n",
    "\n",
    "print(clf.classes_)\n",
    "y_pred = clf.predict(X)  \n",
    "print(confusion_matrix(y, y_pred))"
   ]
  },
  {
   "cell_type": "markdown",
   "metadata": {},
   "source": [
    "## Logistic Regression With LMUs"
   ]
  },
  {
   "cell_type": "code",
   "execution_count": null,
   "metadata": {},
   "outputs": [],
   "source": [
    "%matplotlib inline\n",
    "import matplotlib.pyplot as plt\n",
    "\n",
    "fig, (ax1, ax2) = plt.subplots(1, 2, sharey=True, sharex=True, figsize=(15, 4.5))\n",
    "ax1.scatter(high_lrlmu_summary[:,0], high_lrlmu_summary[:,1], alpha=0.7, color='black', label='high')\n",
    "ax1.scatter(low_lrlmu_summary[:,0], low_lrlmu_summary[:,1], alpha=0.7, color='grey', label='low')\n",
    "ax1.set_xlabel('Mean', fontsize=12)\n",
    "ax1.set_ylabel('STD', fontsize=12)\n",
    "ax1.legend(loc=(1,0))\n",
    "ax1.title.set_text('Mean and STD for Goal and Noplay clips')\n",
    "\n",
    "ax2.scatter(high_lrlmu_summary[:,0], high_lrlmu_summary[:,1], alpha=0.7, color='black', label='high')\n",
    "ax2.scatter(mid_lrlmu_summary[:,0], mid_lrlmu_summary[:,1], alpha=0.7, color='orange', label='intermediate')\n",
    "ax2.scatter(low_lrlmu_summary[:,0], low_lrlmu_summary[:,1], alpha=0.7, color='grey', label='low')\n",
    "ax2.scatter(random_lrlmu_summary[:,0],random_lrlmu_summary[:,1], alpha=0.7, color='blue', label='random')\n",
    "ax2.set_xlabel('Mean', fontsize=12)\n",
    "ax2.set_ylabel('STD', fontsize=12)\n",
    "ax2.legend(loc=(1,0))\n",
    "ax2.title.set_text('Mean and STD for All Clips')"
   ]
  },
  {
   "cell_type": "code",
   "execution_count": null,
   "metadata": {},
   "outputs": [],
   "source": [
    "%matplotlib notebook\n",
    "%matplotlib notebook\n",
    "import matplotlib.pyplot as plt\n",
    "\n",
    "ax = plt.axes(projection='3d')\n",
    "ax.scatter(high_lrlmu_summary[:,0],high_lrlmu_summary[:,1],high_lrlmu_summary[:,2], alpha=0.7, color='black', label='high')\n",
    "ax.scatter(mid_lrlmu_summary[:,0],mid_lrlmu_summary[:,1],mid_lrlmu_summary[:,2], alpha=0.7, color='orange', label='intermediate')\n",
    "ax.scatter(low_lrlmu_summary[:,0],low_lrlmu_summary[:,1],low_lrlmu_summary[:,2], alpha=0.7, color='grey', label='low')\n",
    "ax.scatter(random_lrlmu_summary[:,0],random_lrlmu_summary[:,1],random_lrlmu_summary[:,2], alpha=0.7, color='blue', label='random')\n",
    "ax.set_ylabel('STD', fontsize=12)\n",
    "ax.set_xlabel('Mean', fontsize=12)\n",
    "ax.set_zlabel('Skewness', fontsize=12)\n",
    "ax.legend(loc=(0.9,0))\n",
    "ax.title.set_text('Mean, STD and Skewness for All Clips')"
   ]
  },
  {
   "cell_type": "markdown",
   "metadata": {},
   "source": [
    "Multilabel Logistic Regression <br>\n",
    "How well can we (linearly) separate clip classes based on summary statistics? <br>\n",
    "First calculate baseline - how well would our classifier generates predictions by respecting the training set’s class distribution?"
   ]
  },
  {
   "cell_type": "code",
   "execution_count": null,
   "metadata": {},
   "outputs": [],
   "source": [
    "X = summaries_lrlmu[:,:4]\n",
    "X = X.astype(np.float)\n",
    "y = summaries_lrlmu[:,4]\n",
    "dummy_clf = DummyClassifier(strategy=\"stratified\")\n",
    "dummy_clf.fit(X, y)\n",
    "dummy_clf.predict(X)\n",
    "\n",
    "print('Baseline Logistic Regression using mean, sd, skewness and kurtosis as predictors.')\n",
    "print('Score: ', dummy_clf.score(X, y))\n",
    "\n",
    "print(dummy_clf.classes_)\n",
    "y_pred = dummy_clf.predict(X)  \n",
    "print(confusion_matrix(y, y_pred))"
   ]
  },
  {
   "cell_type": "markdown",
   "metadata": {},
   "source": [
    "Now we do it for real."
   ]
  },
  {
   "cell_type": "code",
   "execution_count": null,
   "metadata": {},
   "outputs": [],
   "source": [
    "X = summaries_lrlmu[:,:4]\n",
    "X = X.astype(np.float)\n",
    "y = summaries_lrlmu[:,4]\n",
    "\n",
    "print('Logistic Regression using mean, sd, skewness and kurtosis as predictors.')\n",
    "\n",
    "clf = LogisticRegression(solver='lbfgs', multi_class='multinomial').fit(X, y)\n",
    "print('Score: ', clf.score(X, y))\n",
    "\n",
    "print(clf.classes_)\n",
    "y_pred = clf.predict(X)  \n",
    "print(confusion_matrix(y, y_pred))"
   ]
  },
  {
   "cell_type": "markdown",
   "metadata": {},
   "source": [
    "## MLP Without LMUs"
   ]
  },
  {
   "cell_type": "code",
   "execution_count": null,
   "metadata": {},
   "outputs": [],
   "source": [
    "%matplotlib inline\n",
    "import matplotlib.pyplot as plt\n",
    "\n",
    "fig, (ax1, ax2) = plt.subplots(1, 2, sharey=True, sharex=True, figsize=(15, 4.5))\n",
    "ax1.scatter(high_mlpraw_summary[:,0],high_mlpraw_summary[:,1], alpha=0.7, color='black', label='high')\n",
    "ax1.scatter(low_mlpraw_summary[:,0],low_mlpraw_summary[:,1], alpha=0.7, color='grey', label='low')\n",
    "ax1.set_xlabel('Mean', fontsize=12)\n",
    "ax1.set_ylabel('STD', fontsize=12)\n",
    "ax1.legend(loc=(1,0))\n",
    "ax1.title.set_text('Mean and STD for Goal and Noplay clips')\n",
    "\n",
    "ax2.scatter(high_mlpraw_summary[:,0],high_mlpraw_summary[:,1], alpha=0.7, color='black', label='high')\n",
    "ax2.scatter(mid_mlpraw_summary[:,0],mid_mlpraw_summary[:,1], alpha=0.7, color='orange', label='intermediate')\n",
    "ax2.scatter(low_mlpraw_summary[:,0],low_mlpraw_summary[:,1], alpha=0.7, color='grey', label='low')\n",
    "ax2.scatter(random_mlpraw_summary[:,0],random_mlpraw_summary[:,1], alpha=0.7, color='blue', label='random')\n",
    "ax2.set_xlabel('Mean', fontsize=12)\n",
    "ax2.set_ylabel('STD', fontsize=12)\n",
    "ax2.legend(loc=(1,0))\n",
    "ax2.title.set_text('Mean and STD for All Clips')"
   ]
  },
  {
   "cell_type": "code",
   "execution_count": null,
   "metadata": {},
   "outputs": [],
   "source": [
    "%matplotlib notebook\n",
    "%matplotlib notebook\n",
    "import matplotlib.pyplot as plt\n",
    "\n",
    "ax = plt.axes(projection='3d')\n",
    "ax.scatter(high_mlpraw_summary[:,0],high_mlpraw_summary[:,1],high_mlpraw_summary[:,2], alpha=0.7, color='black', label='high')\n",
    "ax.scatter(mid_mlpraw_summary[:,0],mid_mlpraw_summary[:,1],mid_mlpraw_summary[:,2], alpha=0.7, color='orange', label='intermediate')\n",
    "ax.scatter(low_mlpraw_summary[:,0],low_mlpraw_summary[:,1],low_mlpraw_summary[:,2], alpha=0.7, color='grey', label='low')\n",
    "ax.scatter(random_mlpraw_summary[:,0],random_mlpraw_summary[:,1],random_mlpraw_summary[:,2], alpha=0.7, color='blue', label='random')\n",
    "ax.set_ylabel('STD', fontsize=12)\n",
    "ax.set_xlabel('Mean', fontsize=12)\n",
    "ax.set_zlabel('Skewness', fontsize=12)\n",
    "ax.legend(loc=(0.9,0))\n",
    "ax.title.set_text('Mean, STD and Skewness for All Clips')"
   ]
  },
  {
   "cell_type": "markdown",
   "metadata": {},
   "source": [
    "Multilabel Logistic Regression <br>\n",
    "How well can we (linearly) separate clip classes based on summary statistics? <br>\n",
    "First calculate baseline - how well would our classifier generates predictions by respecting the training set’s class distribution?"
   ]
  },
  {
   "cell_type": "code",
   "execution_count": null,
   "metadata": {},
   "outputs": [],
   "source": [
    "X = summaries_mlpraw[:,:4]\n",
    "X = X.astype(np.float)\n",
    "y = summaries_mlpraw[:,4]\n",
    "dummy_clf = DummyClassifier(strategy=\"stratified\")\n",
    "dummy_clf.fit(X, y)\n",
    "dummy_clf.predict(X)\n",
    "\n",
    "print('Baseline Logistic Regression using mean, sd, skewness and kurtosis as predictors.')\n",
    "print('Score: ', dummy_clf.score(X, y))\n",
    "\n",
    "print(dummy_clf.classes_)\n",
    "y_pred = dummy_clf.predict(X)  \n",
    "print(confusion_matrix(y, y_pred))"
   ]
  },
  {
   "cell_type": "markdown",
   "metadata": {},
   "source": [
    "Now we do it for real."
   ]
  },
  {
   "cell_type": "code",
   "execution_count": null,
   "metadata": {},
   "outputs": [],
   "source": [
    "X = summaries_mlpraw[:,:4]\n",
    "X = X.astype(np.float)\n",
    "y = summaries_mlpraw[:,4]\n",
    "\n",
    "print('Logistic Regression using mean, sd, skewness and kurtosis as predictors.')\n",
    "\n",
    "clf = LogisticRegression(solver='lbfgs', multi_class='multinomial').fit(X, y)\n",
    "print('Score: ', clf.score(X, y))\n",
    "\n",
    "print(clf.classes_)\n",
    "y_pred = clf.predict(X)  \n",
    "print(confusion_matrix(y, y_pred))"
   ]
  },
  {
   "cell_type": "markdown",
   "metadata": {},
   "source": [
    "## MLP With LMUs"
   ]
  },
  {
   "cell_type": "code",
   "execution_count": null,
   "metadata": {},
   "outputs": [],
   "source": [
    "%matplotlib inline\n",
    "import matplotlib.pyplot as plt\n",
    "\n",
    "fig, (ax1, ax2) = plt.subplots(1, 2, sharey=True, sharex=True, figsize=(15, 4.5))\n",
    "ax1.scatter(high_mlplmu_summary[:,0],high_mlplmu_summary[:,1], alpha=0.7, color='black', label='high')\n",
    "ax1.scatter(low_mlplmu_summary[:,0],low_mlplmu_summary[:,1], alpha=0.7, color='grey', label='low')\n",
    "ax1.set_xlabel('Mean', fontsize=12)\n",
    "ax1.set_ylabel('STD', fontsize=12)\n",
    "ax1.legend(loc=(1,0))\n",
    "ax1.title.set_text('Mean and STD for Goal and Noplay clips')\n",
    "\n",
    "ax2.scatter(high_mlplmu_summary[:,0],high_mlplmu_summary[:,1], alpha=0.7, color='black', label='high')\n",
    "ax2.scatter(mid_mlplmu_summary[:,0],mid_mlplmu_summary[:,1], alpha=0.7, color='orange', label='intermediate')\n",
    "ax2.scatter(low_mlplmu_summary[:,0],low_mlplmu_summary[:,1], alpha=0.7, color='grey', label='low')\n",
    "ax2.scatter(random_mlplmu_summary[:,0],random_mlplmu_summary[:,1], alpha=0.7, color='blue', label='random')\n",
    "ax2.set_xlabel('Mean', fontsize=12)\n",
    "ax2.set_ylabel('STD', fontsize=12)\n",
    "ax2.legend(loc=(1,0))\n",
    "ax2.title.set_text('Mean and STD for All Clips')"
   ]
  },
  {
   "cell_type": "code",
   "execution_count": null,
   "metadata": {},
   "outputs": [],
   "source": [
    "%matplotlib notebook\n",
    "%matplotlib notebook\n",
    "import matplotlib.pyplot as plt\n",
    "\n",
    "ax = plt.axes(projection='3d')\n",
    "ax.scatter(high_mlplmu_summary[:,0],high_mlplmu_summary[:,1],high_mlplmu_summary[:,2], alpha=0.7, color='black', label='high')\n",
    "ax.scatter(mid_mlplmu_summary[:,0],mid_mlplmu_summary[:,1],mid_mlplmu_summary[:,2], alpha=0.7, color='orange', label='intermediate')\n",
    "ax.scatter(low_mlplmu_summary[:,0],low_mlplmu_summary[:,1],low_mlplmu_summary[:,2], alpha=0.7, color='grey', label='low')\n",
    "ax.scatter(random_mlplmu_summary[:,0],random_mlplmu_summary[:,1],random_mlplmu_summary[:,2], alpha=0.7, color='blue', label='random')\n",
    "ax.set_ylabel('STD', fontsize=12)\n",
    "ax.set_xlabel('Mean', fontsize=12)\n",
    "ax.set_zlabel('Skewness', fontsize=12)\n",
    "ax.legend(loc=(0.9,0))\n",
    "ax.title.set_text('Mean, STD and Skewness for All Clips')"
   ]
  },
  {
   "cell_type": "markdown",
   "metadata": {},
   "source": [
    "Multilabel Logistic Regression <br>\n",
    "How well can we (linearly) separate clip classes based on summary statistics? <br>\n",
    "First calculate baseline - how well would our classifier generates predictions by respecting the training set’s class distribution?"
   ]
  },
  {
   "cell_type": "code",
   "execution_count": null,
   "metadata": {},
   "outputs": [],
   "source": [
    "X = summaries_mlplmu[:,:4]\n",
    "X = X.astype(np.float)\n",
    "y = summaries_mlplmu[:,4]\n",
    "dummy_clf = DummyClassifier(strategy=\"stratified\")\n",
    "dummy_clf.fit(X, y)\n",
    "dummy_clf.predict(X)\n",
    "\n",
    "print('Baseline Logistic Regression using mean, sd, skewness and kurtosis as predictors.')\n",
    "print('Score: ', dummy_clf.score(X, y))\n",
    "\n",
    "print(dummy_clf.classes_)\n",
    "y_pred = dummy_clf.predict(X)  \n",
    "print(confusion_matrix(y, y_pred))"
   ]
  },
  {
   "cell_type": "markdown",
   "metadata": {},
   "source": [
    "Now we do it for real."
   ]
  },
  {
   "cell_type": "code",
   "execution_count": null,
   "metadata": {},
   "outputs": [],
   "source": [
    "X = summaries_mlplmu[:,:4]\n",
    "X = X.astype(np.float)\n",
    "y = summaries_mlplmu[:,4]\n",
    "\n",
    "print('Logistic Regression using mean, sd, skewness and kurtosis as predictors.')\n",
    "\n",
    "clf = LogisticRegression(solver='lbfgs', multi_class='multinomial').fit(X, y)\n",
    "print('Score: ', clf.score(X, y))\n",
    "\n",
    "print(clf.classes_)\n",
    "y_pred = clf.predict(X)  \n",
    "print(confusion_matrix(y, y_pred))"
   ]
  },
  {
   "cell_type": "code",
   "execution_count": null,
   "metadata": {},
   "outputs": [],
   "source": []
  }
 ],
 "metadata": {
  "kernelspec": {
   "display_name": "Python 3",
   "language": "python",
   "name": "python3"
  },
  "language_info": {
   "codemirror_mode": {
    "name": "ipython",
    "version": 3
   },
   "file_extension": ".py",
   "mimetype": "text/x-python",
   "name": "python",
   "nbconvert_exporter": "python",
   "pygments_lexer": "ipython3",
   "version": "3.7.5"
  }
 },
 "nbformat": 4,
 "nbformat_minor": 2
}
